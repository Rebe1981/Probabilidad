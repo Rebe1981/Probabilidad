{
  "nbformat": 4,
  "nbformat_minor": 0,
  "metadata": {
    "colab": {
      "provenance": []
    },
    "kernelspec": {
      "name": "python3",
      "display_name": "Python 3"
    },
    "language_info": {
      "name": "python"
    }
  },
  "cells": [
    {
      "cell_type": "markdown",
      "source": [
        "###Programa 2\n",
        "##Rebeca Durán Rodríguez\n",
        "##José Gabriel Rodríguez Rivas"
      ],
      "metadata": {
        "id": "eUDRM2SMKkyt"
      }
    },
    {
      "cell_type": "code",
      "source": [
        "import math as mt # Para utilziar factorial\n",
        "from itertools import permutations\n",
        "from itertools import product\n",
        "import numpy as p"
      ],
      "metadata": {
        "id": "riA66yVjPXqe"
      },
      "execution_count": 1,
      "outputs": []
    },
    {
      "cell_type": "code",
      "source": [
        "mt.factorial(7)"
      ],
      "metadata": {
        "colab": {
          "base_uri": "https://localhost:8080/"
        },
        "id": "AhwBty-SQ_9d",
        "outputId": "6026a075-6f10-4ced-8b26-61520ec57e02"
      },
      "execution_count": 2,
      "outputs": [
        {
          "output_type": "execute_result",
          "data": {
            "text/plain": [
              "5040"
            ]
          },
          "metadata": {},
          "execution_count": 2
        }
      ]
    },
    {
      "cell_type": "code",
      "source": [
        "mt.factorial(4)"
      ],
      "metadata": {
        "colab": {
          "base_uri": "https://localhost:8080/"
        },
        "id": "m-AoOWarREX3",
        "outputId": "74f0e632-2a18-4c96-938d-0a0d7c008fc2"
      },
      "execution_count": 3,
      "outputs": [
        {
          "output_type": "execute_result",
          "data": {
            "text/plain": [
              "24"
            ]
          },
          "metadata": {},
          "execution_count": 3
        }
      ]
    },
    {
      "cell_type": "code",
      "source": [
        "5040/24"
      ],
      "metadata": {
        "colab": {
          "base_uri": "https://localhost:8080/"
        },
        "id": "NTnrW3WVRHNm",
        "outputId": "7eb6164b-268f-43d3-f559-ed02e340c8b6"
      },
      "execution_count": 4,
      "outputs": [
        {
          "output_type": "execute_result",
          "data": {
            "text/plain": [
              "210.0"
            ]
          },
          "metadata": {},
          "execution_count": 4
        }
      ]
    },
    {
      "cell_type": "code",
      "source": [
        "nombres =\"a\",\"b\",\"C\",\"D\",\"e\",\"f\",\"g\"\n",
        "n = len (nombres)\n",
        "r = 3 # ¿cómo agrupar?\n",
        "Pr = mt. factorial(n) / (mt. factorial(n-r))\n",
        "print(\"Existen \", Pr, \" posibles permutaciones sin repetición del total de \",n, \" nombres \", \" en grupos de \", r ,\" en \", r)\n",
        "print (\"Aquí las permutaciones\")\n",
        "permutaciones_nombres = list (permutations (nombres, r))\n",
        "# Imprime las permutaciones\n",
        "for permutacion in permutaciones_nombres:\n",
        " print(permutacion)"
      ],
      "metadata": {
        "colab": {
          "base_uri": "https://localhost:8080/"
        },
        "id": "Ux-UtbWURI9W",
        "outputId": "f37fccba-6981-45cb-dbc9-b90aa1bdafbc"
      },
      "execution_count": 5,
      "outputs": [
        {
          "output_type": "stream",
          "name": "stdout",
          "text": [
            "Existen  210.0  posibles permutaciones sin repetición del total de  7  nombres   en grupos de  3  en  3\n",
            "Aquí las permutaciones\n",
            "('a', 'b', 'C')\n",
            "('a', 'b', 'D')\n",
            "('a', 'b', 'e')\n",
            "('a', 'b', 'f')\n",
            "('a', 'b', 'g')\n",
            "('a', 'C', 'b')\n",
            "('a', 'C', 'D')\n",
            "('a', 'C', 'e')\n",
            "('a', 'C', 'f')\n",
            "('a', 'C', 'g')\n",
            "('a', 'D', 'b')\n",
            "('a', 'D', 'C')\n",
            "('a', 'D', 'e')\n",
            "('a', 'D', 'f')\n",
            "('a', 'D', 'g')\n",
            "('a', 'e', 'b')\n",
            "('a', 'e', 'C')\n",
            "('a', 'e', 'D')\n",
            "('a', 'e', 'f')\n",
            "('a', 'e', 'g')\n",
            "('a', 'f', 'b')\n",
            "('a', 'f', 'C')\n",
            "('a', 'f', 'D')\n",
            "('a', 'f', 'e')\n",
            "('a', 'f', 'g')\n",
            "('a', 'g', 'b')\n",
            "('a', 'g', 'C')\n",
            "('a', 'g', 'D')\n",
            "('a', 'g', 'e')\n",
            "('a', 'g', 'f')\n",
            "('b', 'a', 'C')\n",
            "('b', 'a', 'D')\n",
            "('b', 'a', 'e')\n",
            "('b', 'a', 'f')\n",
            "('b', 'a', 'g')\n",
            "('b', 'C', 'a')\n",
            "('b', 'C', 'D')\n",
            "('b', 'C', 'e')\n",
            "('b', 'C', 'f')\n",
            "('b', 'C', 'g')\n",
            "('b', 'D', 'a')\n",
            "('b', 'D', 'C')\n",
            "('b', 'D', 'e')\n",
            "('b', 'D', 'f')\n",
            "('b', 'D', 'g')\n",
            "('b', 'e', 'a')\n",
            "('b', 'e', 'C')\n",
            "('b', 'e', 'D')\n",
            "('b', 'e', 'f')\n",
            "('b', 'e', 'g')\n",
            "('b', 'f', 'a')\n",
            "('b', 'f', 'C')\n",
            "('b', 'f', 'D')\n",
            "('b', 'f', 'e')\n",
            "('b', 'f', 'g')\n",
            "('b', 'g', 'a')\n",
            "('b', 'g', 'C')\n",
            "('b', 'g', 'D')\n",
            "('b', 'g', 'e')\n",
            "('b', 'g', 'f')\n",
            "('C', 'a', 'b')\n",
            "('C', 'a', 'D')\n",
            "('C', 'a', 'e')\n",
            "('C', 'a', 'f')\n",
            "('C', 'a', 'g')\n",
            "('C', 'b', 'a')\n",
            "('C', 'b', 'D')\n",
            "('C', 'b', 'e')\n",
            "('C', 'b', 'f')\n",
            "('C', 'b', 'g')\n",
            "('C', 'D', 'a')\n",
            "('C', 'D', 'b')\n",
            "('C', 'D', 'e')\n",
            "('C', 'D', 'f')\n",
            "('C', 'D', 'g')\n",
            "('C', 'e', 'a')\n",
            "('C', 'e', 'b')\n",
            "('C', 'e', 'D')\n",
            "('C', 'e', 'f')\n",
            "('C', 'e', 'g')\n",
            "('C', 'f', 'a')\n",
            "('C', 'f', 'b')\n",
            "('C', 'f', 'D')\n",
            "('C', 'f', 'e')\n",
            "('C', 'f', 'g')\n",
            "('C', 'g', 'a')\n",
            "('C', 'g', 'b')\n",
            "('C', 'g', 'D')\n",
            "('C', 'g', 'e')\n",
            "('C', 'g', 'f')\n",
            "('D', 'a', 'b')\n",
            "('D', 'a', 'C')\n",
            "('D', 'a', 'e')\n",
            "('D', 'a', 'f')\n",
            "('D', 'a', 'g')\n",
            "('D', 'b', 'a')\n",
            "('D', 'b', 'C')\n",
            "('D', 'b', 'e')\n",
            "('D', 'b', 'f')\n",
            "('D', 'b', 'g')\n",
            "('D', 'C', 'a')\n",
            "('D', 'C', 'b')\n",
            "('D', 'C', 'e')\n",
            "('D', 'C', 'f')\n",
            "('D', 'C', 'g')\n",
            "('D', 'e', 'a')\n",
            "('D', 'e', 'b')\n",
            "('D', 'e', 'C')\n",
            "('D', 'e', 'f')\n",
            "('D', 'e', 'g')\n",
            "('D', 'f', 'a')\n",
            "('D', 'f', 'b')\n",
            "('D', 'f', 'C')\n",
            "('D', 'f', 'e')\n",
            "('D', 'f', 'g')\n",
            "('D', 'g', 'a')\n",
            "('D', 'g', 'b')\n",
            "('D', 'g', 'C')\n",
            "('D', 'g', 'e')\n",
            "('D', 'g', 'f')\n",
            "('e', 'a', 'b')\n",
            "('e', 'a', 'C')\n",
            "('e', 'a', 'D')\n",
            "('e', 'a', 'f')\n",
            "('e', 'a', 'g')\n",
            "('e', 'b', 'a')\n",
            "('e', 'b', 'C')\n",
            "('e', 'b', 'D')\n",
            "('e', 'b', 'f')\n",
            "('e', 'b', 'g')\n",
            "('e', 'C', 'a')\n",
            "('e', 'C', 'b')\n",
            "('e', 'C', 'D')\n",
            "('e', 'C', 'f')\n",
            "('e', 'C', 'g')\n",
            "('e', 'D', 'a')\n",
            "('e', 'D', 'b')\n",
            "('e', 'D', 'C')\n",
            "('e', 'D', 'f')\n",
            "('e', 'D', 'g')\n",
            "('e', 'f', 'a')\n",
            "('e', 'f', 'b')\n",
            "('e', 'f', 'C')\n",
            "('e', 'f', 'D')\n",
            "('e', 'f', 'g')\n",
            "('e', 'g', 'a')\n",
            "('e', 'g', 'b')\n",
            "('e', 'g', 'C')\n",
            "('e', 'g', 'D')\n",
            "('e', 'g', 'f')\n",
            "('f', 'a', 'b')\n",
            "('f', 'a', 'C')\n",
            "('f', 'a', 'D')\n",
            "('f', 'a', 'e')\n",
            "('f', 'a', 'g')\n",
            "('f', 'b', 'a')\n",
            "('f', 'b', 'C')\n",
            "('f', 'b', 'D')\n",
            "('f', 'b', 'e')\n",
            "('f', 'b', 'g')\n",
            "('f', 'C', 'a')\n",
            "('f', 'C', 'b')\n",
            "('f', 'C', 'D')\n",
            "('f', 'C', 'e')\n",
            "('f', 'C', 'g')\n",
            "('f', 'D', 'a')\n",
            "('f', 'D', 'b')\n",
            "('f', 'D', 'C')\n",
            "('f', 'D', 'e')\n",
            "('f', 'D', 'g')\n",
            "('f', 'e', 'a')\n",
            "('f', 'e', 'b')\n",
            "('f', 'e', 'C')\n",
            "('f', 'e', 'D')\n",
            "('f', 'e', 'g')\n",
            "('f', 'g', 'a')\n",
            "('f', 'g', 'b')\n",
            "('f', 'g', 'C')\n",
            "('f', 'g', 'D')\n",
            "('f', 'g', 'e')\n",
            "('g', 'a', 'b')\n",
            "('g', 'a', 'C')\n",
            "('g', 'a', 'D')\n",
            "('g', 'a', 'e')\n",
            "('g', 'a', 'f')\n",
            "('g', 'b', 'a')\n",
            "('g', 'b', 'C')\n",
            "('g', 'b', 'D')\n",
            "('g', 'b', 'e')\n",
            "('g', 'b', 'f')\n",
            "('g', 'C', 'a')\n",
            "('g', 'C', 'b')\n",
            "('g', 'C', 'D')\n",
            "('g', 'C', 'e')\n",
            "('g', 'C', 'f')\n",
            "('g', 'D', 'a')\n",
            "('g', 'D', 'b')\n",
            "('g', 'D', 'C')\n",
            "('g', 'D', 'e')\n",
            "('g', 'D', 'f')\n",
            "('g', 'e', 'a')\n",
            "('g', 'e', 'b')\n",
            "('g', 'e', 'C')\n",
            "('g', 'e', 'D')\n",
            "('g', 'e', 'f')\n",
            "('g', 'f', 'a')\n",
            "('g', 'f', 'b')\n",
            "('g', 'f', 'C')\n",
            "('g', 'f', 'D')\n",
            "('g', 'f', 'e')\n"
          ]
        }
      ]
    }
  ]
}