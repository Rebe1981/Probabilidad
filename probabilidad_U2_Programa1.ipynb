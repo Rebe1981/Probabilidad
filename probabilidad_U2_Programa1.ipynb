{
  "nbformat": 4,
  "nbformat_minor": 0,
  "metadata": {
    "colab": {
      "provenance": []
    },
    "kernelspec": {
      "name": "python3",
      "display_name": "Python 3"
    },
    "language_info": {
      "name": "python"
    }
  },
  "cells": [
    {
      "cell_type": "markdown",
      "source": [
        "###Programa 1\n",
        "##Rebeca Durán Rodríguez\n",
        "##Profesor José Gabriel Rodríguez Rivas"
      ],
      "metadata": {
        "id": "eUDRM2SMKkyt"
      }
    },
    {
      "cell_type": "code",
      "execution_count": 15,
      "metadata": {
        "id": "h32l6s06KiTX"
      },
      "outputs": [],
      "source": [
        "import math as mt # Para utilizar el factorial\n",
        "from itertools import combinations\n",
        "from itertools import combinations_with_replacement\n",
        "import numpy as np"
      ]
    },
    {
      "cell_type": "code",
      "source": [
        "nombres=[\"Oscar\",\"Paco\", \"Paty\", \"Laura\", \"Rubén\", \"Luis\", \"Lucy\", \"Alberto\", \"Juan\", \"Danny\"]\n",
        "n=len (nombres)\n",
        "r=2 #¿cómo agrupar?\n",
        "Cn=mt. factorial(n) / (mt. factorial(r) * mt. factorial(n-r))\n",
        "print (\"Existen\", Cn ,  \" posibles combinaciones sin repetición del total de \",n,\" en grupos de \", r,\" en \", r)\n",
        "print (\"Aquí las combinaciones\")\n",
        "combinaciones_nombres = list(combinations (nombres, r))\n",
        "#Imprime las combinaciones\n",
        "for combinacion in combinaciones_nombres:\n",
        " print(combinacion)"
      ],
      "metadata": {
        "colab": {
          "base_uri": "https://localhost:8080/"
        },
        "id": "qPERmIwsLZpz",
        "outputId": "9ae73299-1189-481c-9e0c-e417a2bb2a78"
      },
      "execution_count": 16,
      "outputs": [
        {
          "output_type": "stream",
          "name": "stdout",
          "text": [
            "Existen 45.0  posibles combinaciones sin repetición del total de  10  en grupos de  2  en  2\n",
            "Aquí las combinaciones\n",
            "('Oscar', 'Paco')\n",
            "('Oscar', 'Paty')\n",
            "('Oscar', 'Laura')\n",
            "('Oscar', 'Rubén')\n",
            "('Oscar', 'Luis')\n",
            "('Oscar', 'Lucy')\n",
            "('Oscar', 'Alberto')\n",
            "('Oscar', 'Juan')\n",
            "('Oscar', 'Danny')\n",
            "('Paco', 'Paty')\n",
            "('Paco', 'Laura')\n",
            "('Paco', 'Rubén')\n",
            "('Paco', 'Luis')\n",
            "('Paco', 'Lucy')\n",
            "('Paco', 'Alberto')\n",
            "('Paco', 'Juan')\n",
            "('Paco', 'Danny')\n",
            "('Paty', 'Laura')\n",
            "('Paty', 'Rubén')\n",
            "('Paty', 'Luis')\n",
            "('Paty', 'Lucy')\n",
            "('Paty', 'Alberto')\n",
            "('Paty', 'Juan')\n",
            "('Paty', 'Danny')\n",
            "('Laura', 'Rubén')\n",
            "('Laura', 'Luis')\n",
            "('Laura', 'Lucy')\n",
            "('Laura', 'Alberto')\n",
            "('Laura', 'Juan')\n",
            "('Laura', 'Danny')\n",
            "('Rubén', 'Luis')\n",
            "('Rubén', 'Lucy')\n",
            "('Rubén', 'Alberto')\n",
            "('Rubén', 'Juan')\n",
            "('Rubén', 'Danny')\n",
            "('Luis', 'Lucy')\n",
            "('Luis', 'Alberto')\n",
            "('Luis', 'Juan')\n",
            "('Luis', 'Danny')\n",
            "('Lucy', 'Alberto')\n",
            "('Lucy', 'Juan')\n",
            "('Lucy', 'Danny')\n",
            "('Alberto', 'Juan')\n",
            "('Alberto', 'Danny')\n",
            "('Juan', 'Danny')\n"
          ]
        }
      ]
    },
    {
      "cell_type": "code",
      "source": [
        "caracteres = \"A\", \"B\",\"C\",\"D\",\"E\",\"F\",\"O\",\"1\",\"2\",\"3\",\"4\", \"5\"\n",
        "n = len (caracteres)\n",
        "r = 10 # ¿cómo agrupar?\n",
        "Cn = mt. factorial(n) / (mt. factorial(r) * mt. factorial(n-r))\n",
        "print (\"Existen \", Cn, \" posibles combinaciones sin repetición del total de \", n ,\n",
        "\" caracteres\",\n",
        "\"en grupos de \", r ,\" en \", r)\n",
        "print(\"Aquí las combinaciones\")\n",
        "combinaciones_caracteres = list (combinations (caracteres, r))\n",
        "# Imprime Las combinaciones\n",
        "for combinacion in combinaciones_caracteres:\n",
        " print (combinacion)\n"
      ],
      "metadata": {
        "colab": {
          "base_uri": "https://localhost:8080/"
        },
        "id": "wYsUOE3WMeU9",
        "outputId": "1a0fa66e-e6d4-4603-9038-96abce9e1fdb"
      },
      "execution_count": 17,
      "outputs": [
        {
          "output_type": "stream",
          "name": "stdout",
          "text": [
            "Existen  66.0  posibles combinaciones sin repetición del total de  12  caracteres en grupos de  10  en  10\n",
            "Aquí las combinaciones\n",
            "('A', 'B', 'C', 'D', 'E', 'F', 'O', '1', '2', '3')\n",
            "('A', 'B', 'C', 'D', 'E', 'F', 'O', '1', '2', '4')\n",
            "('A', 'B', 'C', 'D', 'E', 'F', 'O', '1', '2', '5')\n",
            "('A', 'B', 'C', 'D', 'E', 'F', 'O', '1', '3', '4')\n",
            "('A', 'B', 'C', 'D', 'E', 'F', 'O', '1', '3', '5')\n",
            "('A', 'B', 'C', 'D', 'E', 'F', 'O', '1', '4', '5')\n",
            "('A', 'B', 'C', 'D', 'E', 'F', 'O', '2', '3', '4')\n",
            "('A', 'B', 'C', 'D', 'E', 'F', 'O', '2', '3', '5')\n",
            "('A', 'B', 'C', 'D', 'E', 'F', 'O', '2', '4', '5')\n",
            "('A', 'B', 'C', 'D', 'E', 'F', 'O', '3', '4', '5')\n",
            "('A', 'B', 'C', 'D', 'E', 'F', '1', '2', '3', '4')\n",
            "('A', 'B', 'C', 'D', 'E', 'F', '1', '2', '3', '5')\n",
            "('A', 'B', 'C', 'D', 'E', 'F', '1', '2', '4', '5')\n",
            "('A', 'B', 'C', 'D', 'E', 'F', '1', '3', '4', '5')\n",
            "('A', 'B', 'C', 'D', 'E', 'F', '2', '3', '4', '5')\n",
            "('A', 'B', 'C', 'D', 'E', 'O', '1', '2', '3', '4')\n",
            "('A', 'B', 'C', 'D', 'E', 'O', '1', '2', '3', '5')\n",
            "('A', 'B', 'C', 'D', 'E', 'O', '1', '2', '4', '5')\n",
            "('A', 'B', 'C', 'D', 'E', 'O', '1', '3', '4', '5')\n",
            "('A', 'B', 'C', 'D', 'E', 'O', '2', '3', '4', '5')\n",
            "('A', 'B', 'C', 'D', 'E', '1', '2', '3', '4', '5')\n",
            "('A', 'B', 'C', 'D', 'F', 'O', '1', '2', '3', '4')\n",
            "('A', 'B', 'C', 'D', 'F', 'O', '1', '2', '3', '5')\n",
            "('A', 'B', 'C', 'D', 'F', 'O', '1', '2', '4', '5')\n",
            "('A', 'B', 'C', 'D', 'F', 'O', '1', '3', '4', '5')\n",
            "('A', 'B', 'C', 'D', 'F', 'O', '2', '3', '4', '5')\n",
            "('A', 'B', 'C', 'D', 'F', '1', '2', '3', '4', '5')\n",
            "('A', 'B', 'C', 'D', 'O', '1', '2', '3', '4', '5')\n",
            "('A', 'B', 'C', 'E', 'F', 'O', '1', '2', '3', '4')\n",
            "('A', 'B', 'C', 'E', 'F', 'O', '1', '2', '3', '5')\n",
            "('A', 'B', 'C', 'E', 'F', 'O', '1', '2', '4', '5')\n",
            "('A', 'B', 'C', 'E', 'F', 'O', '1', '3', '4', '5')\n",
            "('A', 'B', 'C', 'E', 'F', 'O', '2', '3', '4', '5')\n",
            "('A', 'B', 'C', 'E', 'F', '1', '2', '3', '4', '5')\n",
            "('A', 'B', 'C', 'E', 'O', '1', '2', '3', '4', '5')\n",
            "('A', 'B', 'C', 'F', 'O', '1', '2', '3', '4', '5')\n",
            "('A', 'B', 'D', 'E', 'F', 'O', '1', '2', '3', '4')\n",
            "('A', 'B', 'D', 'E', 'F', 'O', '1', '2', '3', '5')\n",
            "('A', 'B', 'D', 'E', 'F', 'O', '1', '2', '4', '5')\n",
            "('A', 'B', 'D', 'E', 'F', 'O', '1', '3', '4', '5')\n",
            "('A', 'B', 'D', 'E', 'F', 'O', '2', '3', '4', '5')\n",
            "('A', 'B', 'D', 'E', 'F', '1', '2', '3', '4', '5')\n",
            "('A', 'B', 'D', 'E', 'O', '1', '2', '3', '4', '5')\n",
            "('A', 'B', 'D', 'F', 'O', '1', '2', '3', '4', '5')\n",
            "('A', 'B', 'E', 'F', 'O', '1', '2', '3', '4', '5')\n",
            "('A', 'C', 'D', 'E', 'F', 'O', '1', '2', '3', '4')\n",
            "('A', 'C', 'D', 'E', 'F', 'O', '1', '2', '3', '5')\n",
            "('A', 'C', 'D', 'E', 'F', 'O', '1', '2', '4', '5')\n",
            "('A', 'C', 'D', 'E', 'F', 'O', '1', '3', '4', '5')\n",
            "('A', 'C', 'D', 'E', 'F', 'O', '2', '3', '4', '5')\n",
            "('A', 'C', 'D', 'E', 'F', '1', '2', '3', '4', '5')\n",
            "('A', 'C', 'D', 'E', 'O', '1', '2', '3', '4', '5')\n",
            "('A', 'C', 'D', 'F', 'O', '1', '2', '3', '4', '5')\n",
            "('A', 'C', 'E', 'F', 'O', '1', '2', '3', '4', '5')\n",
            "('A', 'D', 'E', 'F', 'O', '1', '2', '3', '4', '5')\n",
            "('B', 'C', 'D', 'E', 'F', 'O', '1', '2', '3', '4')\n",
            "('B', 'C', 'D', 'E', 'F', 'O', '1', '2', '3', '5')\n",
            "('B', 'C', 'D', 'E', 'F', 'O', '1', '2', '4', '5')\n",
            "('B', 'C', 'D', 'E', 'F', 'O', '1', '3', '4', '5')\n",
            "('B', 'C', 'D', 'E', 'F', 'O', '2', '3', '4', '5')\n",
            "('B', 'C', 'D', 'E', 'F', '1', '2', '3', '4', '5')\n",
            "('B', 'C', 'D', 'E', 'O', '1', '2', '3', '4', '5')\n",
            "('B', 'C', 'D', 'F', 'O', '1', '2', '3', '4', '5')\n",
            "('B', 'C', 'E', 'F', 'O', '1', '2', '3', '4', '5')\n",
            "('B', 'D', 'E', 'F', 'O', '1', '2', '3', '4', '5')\n",
            "('C', 'D', 'E', 'F', 'O', '1', '2', '3', '4', '5')\n"
          ]
        }
      ]
    },
    {
      "cell_type": "code",
      "source": [
        "dado = [1, 2, 3, 4, 5, 6]\n",
        "n = len (dado)\n",
        "r = 2 # ¿cómo agrupar?, de dos en dos porque hay dos dados\n",
        "CnR = mt. factorial(n+r-1) / (mt. factorial(r) * mt. factorial ((n+r-1)-r))\n",
        "print (\"Existen\", CnR, \"posibles combinaciones con repetición del total de \", n ,\"caracteres\", \"en grupos de \", r, \" en \", r)\n",
        "print(\"Aquí las combinaciones con repetición de dos dados\")\n",
        "# Definir el conjunto de elementos\n",
        "elementos = [1, 2, 3, 4, 5, 6]\n",
        "# Número de elementos a elegir en cada combinación\n",
        "r = 2\n",
        "# Calcular Las combinaciones con repetición\n",
        "combinaciones_dados = list (combinations_with_replacement(dado, r))\n",
        "# Imprimir Las combinaciones\n",
        "for combinacion in combinaciones_dados :\n",
        " print(combinacion)"
      ],
      "metadata": {
        "colab": {
          "base_uri": "https://localhost:8080/"
        },
        "id": "-FNHhqnUNpFY",
        "outputId": "96dc1c27-830a-400c-f8b1-c2e740933118"
      },
      "execution_count": 18,
      "outputs": [
        {
          "output_type": "stream",
          "name": "stdout",
          "text": [
            "Existen 21.0 posibles combinaciones con repetición del total de  6 caracteres en grupos de  2  en  2\n",
            "Aquí las combinaciones con repetición de dos dados\n",
            "(1, 1)\n",
            "(1, 2)\n",
            "(1, 3)\n",
            "(1, 4)\n",
            "(1, 5)\n",
            "(1, 6)\n",
            "(2, 2)\n",
            "(2, 3)\n",
            "(2, 4)\n",
            "(2, 5)\n",
            "(2, 6)\n",
            "(3, 3)\n",
            "(3, 4)\n",
            "(3, 5)\n",
            "(3, 6)\n",
            "(4, 4)\n",
            "(4, 5)\n",
            "(4, 6)\n",
            "(5, 5)\n",
            "(5, 6)\n",
            "(6, 6)\n"
          ]
        }
      ]
    }
  ]
}