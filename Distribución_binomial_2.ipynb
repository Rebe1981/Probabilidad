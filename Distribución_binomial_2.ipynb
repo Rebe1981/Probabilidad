{
  "nbformat": 4,
  "nbformat_minor": 0,
  "metadata": {
    "colab": {
      "provenance": []
    },
    "kernelspec": {
      "name": "python3",
      "display_name": "Python 3"
    },
    "language_info": {
      "name": "python"
    }
  },
  "cells": [
    {
      "cell_type": "markdown",
      "source": [
        "##Rebeca Durán Rodríguez\n",
        "##Problema 2\n"
      ],
      "metadata": {
        "id": "KeZhUhWoyNI2"
      }
    },
    {
      "cell_type": "markdown",
      "source": [
        "El problema planteado tiene como solución la Distribución Binomial porque los valores otorgados entran en los valores que se necesitan en la Distribución Binomial"
      ],
      "metadata": {
        "id": "yIxSJOXj5Xv6"
      }
    },
    {
      "cell_type": "markdown",
      "source": [
        "# Probabilidad de 0 motores defectuosos"
      ],
      "metadata": {
        "id": "s6q5q_fE402E"
      }
    },
    {
      "cell_type": "code",
      "execution_count": 44,
      "metadata": {
        "id": "RbRpan1SyMfp"
      },
      "outputs": [],
      "source": [
        "from scipy.stats import binom"
      ]
    },
    {
      "cell_type": "code",
      "source": [
        "probabilidad_defectuoso = 0.001\n",
        "motores_comprados = 1000\n",
        "X = 0 #Numero de motores defectuosos"
      ],
      "metadata": {
        "id": "uzpxxeBO0fp-"
      },
      "execution_count": 45,
      "outputs": []
    },
    {
      "cell_type": "code",
      "source": [
        "probabilidad_0_motores_defectuosos = binom.pmf(X, motores_comprados, probabilidad_defectuoso)"
      ],
      "metadata": {
        "id": "iVCo8r624Kxx"
      },
      "execution_count": 46,
      "outputs": []
    },
    {
      "cell_type": "code",
      "source": [
        "print(\"La probabilidad de que no haya ningun motor defectuoso es de: \",probabilidad_0_motores_defectuosos)"
      ],
      "metadata": {
        "colab": {
          "base_uri": "https://localhost:8080/"
        },
        "id": "Meumneqq4hQK",
        "outputId": "b256c6bb-a128-4cd3-c9cf-f6bfe3143c87"
      },
      "execution_count": 47,
      "outputs": [
        {
          "output_type": "stream",
          "name": "stdout",
          "text": [
            "La probabilidad de que no haya ningun motor defectuoso es de:  0.3676954247709639\n"
          ]
        }
      ]
    },
    {
      "cell_type": "markdown",
      "source": [
        "# Probabilidad de 3 motores defectuosos"
      ],
      "metadata": {
        "id": "W5U5cXmR46mF"
      }
    },
    {
      "cell_type": "code",
      "source": [
        "probabilidad_defectuoso = 0.001\n",
        "motores_comprados = 1000\n",
        "X = 3 #Numero de motores defectuosos"
      ],
      "metadata": {
        "id": "FaVwUh9P5AOR"
      },
      "execution_count": 48,
      "outputs": []
    },
    {
      "cell_type": "code",
      "source": [
        "probabilidad_3_motores_defectuosos = binom.pmf(X, motores_comprados, probabilidad_defectuoso)"
      ],
      "metadata": {
        "id": "wQ8RdLkz5Dq9"
      },
      "execution_count": 49,
      "outputs": []
    },
    {
      "cell_type": "code",
      "source": [
        "print(\"La probabilidad de que hayan 3 motores defectuosos es de: \",probabilidad_3_motores_defectuosos)"
      ],
      "metadata": {
        "colab": {
          "base_uri": "https://localhost:8080/"
        },
        "id": "SfqAaphc5Gnj",
        "outputId": "7a8a1168-b5d2-47be-8d08-91110e040ef4"
      },
      "execution_count": 50,
      "outputs": [
        {
          "output_type": "stream",
          "name": "stdout",
          "text": [
            "La probabilidad de que hayan 3 motores defectuosos es de:  0.061282509389840666\n"
          ]
        }
      ]
    },
    {
      "cell_type": "markdown",
      "source": [
        "# Probabilidad de 4 motores defectuosos"
      ],
      "metadata": {
        "id": "6vs7kMSx5Nvl"
      }
    },
    {
      "cell_type": "code",
      "source": [
        "probabilidad_defectuoso = 0.001\n",
        "motores_comprados = 1000\n",
        "X = 4 #Numero de motores defectuosos"
      ],
      "metadata": {
        "id": "rjOAJx_W5f9o"
      },
      "execution_count": 51,
      "outputs": []
    },
    {
      "cell_type": "code",
      "source": [
        "probabilidad_4_motores_defectuosos = binom.pmf(X, motores_comprados, probabilidad_defectuoso)"
      ],
      "metadata": {
        "id": "u87OAEGh5k4s"
      },
      "execution_count": 52,
      "outputs": []
    },
    {
      "cell_type": "code",
      "source": [
        "print(\"La probabilidad de que hayan 4 motores defectuosos es de: \",probabilidad_4_motores_defectuosos)"
      ],
      "metadata": {
        "colab": {
          "base_uri": "https://localhost:8080/"
        },
        "id": "Iyv0XeQG5ntU",
        "outputId": "d652d6bf-fc2a-4b4d-f90a-7243c7761150"
      },
      "execution_count": 53,
      "outputs": [
        {
          "output_type": "stream",
          "name": "stdout",
          "text": [
            "La probabilidad de que hayan 4 motores defectuosos es de:  0.015289955420838651\n"
          ]
        }
      ]
    }
  ]
}