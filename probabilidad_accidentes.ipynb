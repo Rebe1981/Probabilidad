{
  "nbformat": 4,
  "nbformat_minor": 0,
  "metadata": {
    "colab": {
      "provenance": []
    },
    "kernelspec": {
      "name": "python3",
      "display_name": "Python 3"
    },
    "language_info": {
      "name": "python"
    }
  },
  "cells": [
    {
      "cell_type": "code",
      "execution_count": 1,
      "metadata": {
        "id": "W_pyY80njETV"
      },
      "outputs": [],
      "source": [
        "from scipy.stats import poisson"
      ]
    },
    {
      "cell_type": "code",
      "source": [
        "#Parametros de la distribucion de Poisson\n",
        "media_accidentes = 2"
      ],
      "metadata": {
        "id": "5cufS6O1jxU-"
      },
      "execution_count": 2,
      "outputs": []
    },
    {
      "cell_type": "code",
      "source": [
        "#Parte 1: Probabilidad de que no haya accidentes en 1 semana\n",
        "probabilidad_0_accidentes = poisson.pmf(0,media_accidentes)"
      ],
      "metadata": {
        "id": "-5-BArRRkjYH"
      },
      "execution_count": 3,
      "outputs": []
    },
    {
      "cell_type": "code",
      "source": [
        "print(\"1. Probabilidad de que no haya accidentes en 1 semana: \", probabilidad_0_accidentes)"
      ],
      "metadata": {
        "colab": {
          "base_uri": "https://localhost:8080/"
        },
        "id": "IkiURd0Ek6D_",
        "outputId": "480f4a04-b1bd-4e11-acf1-44da35b01ddc"
      },
      "execution_count": 4,
      "outputs": [
        {
          "output_type": "stream",
          "name": "stdout",
          "text": [
            "1. Probabilidad de que no haya accidentes en 1 semana:  0.1353352832366127\n"
          ]
        }
      ]
    },
    {
      "cell_type": "code",
      "source": [
        "#Parte 2: Probabilidad de que a lo sumo haya tres accidentes en 2 semanas\n",
        "#Convertimos la media a una media para 2 semanas\n",
        "media_2_semanas = media_accidentes * 2"
      ],
      "metadata": {
        "id": "A_RKBOWOlGm2"
      },
      "execution_count": 5,
      "outputs": []
    },
    {
      "cell_type": "code",
      "source": [
        "#Calculamos la probabilidad acumulada hasta 3 accidentes en 2 semanas\n",
        "probabilidad_3_o_menos_accidentes = poisson.cdf(3, media_2_semanas)"
      ],
      "metadata": {
        "id": "3ZdDfoCplt8p"
      },
      "execution_count": 6,
      "outputs": []
    },
    {
      "cell_type": "code",
      "source": [
        "print(\"2. Probabilidad de que a lo sumo haya tres accidentes en 2 semanas: \", probabilidad_3_o_menos_accidentes)"
      ],
      "metadata": {
        "colab": {
          "base_uri": "https://localhost:8080/"
        },
        "id": "laavlgBymIuT",
        "outputId": "5d424ba0-50e5-4ce3-ce4d-1a8ec935dc7e"
      },
      "execution_count": 7,
      "outputs": [
        {
          "output_type": "stream",
          "name": "stdout",
          "text": [
            "2. Probabilidad de que a lo sumo haya tres accidentes en 2 semanas:  0.43347012036670896\n"
          ]
        }
      ]
    }
  ]
}