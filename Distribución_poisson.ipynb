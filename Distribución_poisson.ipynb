{
  "nbformat": 4,
  "nbformat_minor": 0,
  "metadata": {
    "colab": {
      "provenance": []
    },
    "kernelspec": {
      "name": "python3",
      "display_name": "Python 3"
    },
    "language_info": {
      "name": "python"
    }
  },
  "cells": [
    {
      "cell_type": "markdown",
      "source": [
        "# Rebeca Durán Rodríguez\n",
        "# Problema 1"
      ],
      "metadata": {
        "id": "_pCy6SOQrJDs"
      }
    },
    {
      "cell_type": "markdown",
      "source": [
        "El problema tiene como solución la Distribución Poisson ya que los valores que se nos dan entran en los parámetros requeridos para la Distribución Poisson"
      ],
      "metadata": {
        "id": "Cya6_wS95bjB"
      }
    },
    {
      "cell_type": "code",
      "execution_count": 9,
      "metadata": {
        "id": "Uv4Ur6dMrH_A"
      },
      "outputs": [],
      "source": [
        "from scipy.stats import poisson"
      ]
    },
    {
      "cell_type": "code",
      "source": [
        "#La media de personas ingresadas a la UCI es de 5 personas al día\n",
        "media_personas_ingresadas = 5"
      ],
      "metadata": {
        "id": "dSIbW2APs6Zl"
      },
      "execution_count": 10,
      "outputs": []
    },
    {
      "cell_type": "code",
      "source": [
        "#Cual es la probabilidad de que en un día haya solo 2 personas ingresadas\n",
        "probabilidad_2_personas_ingresadas = poisson.pmf(2, media_personas_ingresadas)"
      ],
      "metadata": {
        "id": "87Ga27AVtRSV"
      },
      "execution_count": 11,
      "outputs": []
    },
    {
      "cell_type": "code",
      "source": [
        "print(\"La probabilidad de que haya solo 2 personas ingresadas a la UCI en un día es: \", probabilidad_2_personas_ingresadas)"
      ],
      "metadata": {
        "colab": {
          "base_uri": "https://localhost:8080/"
        },
        "id": "2znHDn9Ct3Wy",
        "outputId": "4240908d-dc9b-4c66-b9e6-d381aa6b4b3a"
      },
      "execution_count": 12,
      "outputs": [
        {
          "output_type": "stream",
          "name": "stdout",
          "text": [
            "La probabilidad de que haya solo 2 personas ingresadas a la UCI en un día es:  0.08422433748856832\n"
          ]
        }
      ]
    },
    {
      "cell_type": "code",
      "source": [
        "#¿Es probable que exceda de 10 personas?\n",
        "probabilidad_10_personas = poisson.pmf(10, media_personas_ingresadas)"
      ],
      "metadata": {
        "id": "zPDJPbe8uNGH"
      },
      "execution_count": 13,
      "outputs": []
    },
    {
      "cell_type": "code",
      "source": [
        "print(\"La probabilidad de que las personas ingresadas excedan de 10 es: \", probabilidad_10_personas)"
      ],
      "metadata": {
        "colab": {
          "base_uri": "https://localhost:8080/"
        },
        "id": "HOFOoxEMufw5",
        "outputId": "4db7e156-327a-48e2-a229-16d86d5edfca"
      },
      "execution_count": 14,
      "outputs": [
        {
          "output_type": "stream",
          "name": "stdout",
          "text": [
            "La probabilidad de que las personas ingresadas excedan de 10 es:  0.018132788707821854\n"
          ]
        }
      ]
    }
  ]
}